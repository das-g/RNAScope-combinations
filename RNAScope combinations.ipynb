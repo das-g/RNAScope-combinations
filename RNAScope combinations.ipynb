{
 "cells": [
  {
   "cell_type": "markdown",
   "metadata": {},
   "source": [
    "# RNAScope solutions with combined probes"
   ]
  },
  {
   "cell_type": "markdown",
   "metadata": {},
   "source": [
    "In the following cell, define which of the 3 channels (`c1`, `c2`, `c3`) has probes for what genes available:"
   ]
  },
  {
   "cell_type": "code",
   "execution_count": 1,
   "metadata": {},
   "outputs": [],
   "source": [
    "c1 = {\n",
    "    'gene_1',\n",
    "    'gene_2',\n",
    "}\n",
    "\n",
    "c2 = {\n",
    "    'gene_2',\n",
    "    'gene_3',\n",
    "    'gene_5',\n",
    "}\n",
    "\n",
    "c3 = {\n",
    "    'gene_1',\n",
    "    'gene_4',\n",
    "}"
   ]
  },
  {
   "cell_type": "code",
   "execution_count": 2,
   "metadata": {},
   "outputs": [
    {
     "data": {
      "text/plain": [
       "5"
      ]
     },
     "execution_count": 2,
     "metadata": {},
     "output_type": "execute_result"
    }
   ],
   "source": [
    "# The number of detectable genes is:\n",
    "len(c1.union(c2).union(c3))"
   ]
  },
  {
   "cell_type": "code",
   "execution_count": 3,
   "metadata": {},
   "outputs": [
    {
     "data": {
      "text/plain": [
       "12"
      ]
     },
     "execution_count": 3,
     "metadata": {},
     "output_type": "execute_result"
    }
   ],
   "source": [
    "# The number of possible solutions (some nonsensical, because having two probes for the same gene) using all 3 channels is:\n",
    "len(c1) * len(c2) * len(c3)"
   ]
  },
  {
   "cell_type": "code",
   "execution_count": 4,
   "metadata": {},
   "outputs": [
    {
     "name": "stdout",
     "output_type": "stream",
     "text": [
      "gene_2, gene_2-C2, gene_1-C3\n",
      "gene_2, gene_2-C2, gene_4-C3\n",
      "gene_2, gene_5-C2, gene_1-C3\n",
      "gene_2, gene_5-C2, gene_4-C3\n",
      "gene_2, gene_3-C2, gene_1-C3\n",
      "gene_2, gene_3-C2, gene_4-C3\n",
      "gene_1, gene_2-C2, gene_1-C3\n",
      "gene_1, gene_2-C2, gene_4-C3\n",
      "gene_1, gene_5-C2, gene_1-C3\n",
      "gene_1, gene_5-C2, gene_4-C3\n",
      "gene_1, gene_3-C2, gene_1-C3\n",
      "gene_1, gene_3-C2, gene_4-C3\n"
     ]
    }
   ],
   "source": [
    "# i.e.:\n",
    "for p1 in c1:\n",
    "    for p2 in c2:\n",
    "        for p3 in c3:\n",
    "            print(f\"{p1}, {p2}-C2, {p3}-C3\")"
   ]
  },
  {
   "cell_type": "code",
   "execution_count": 5,
   "metadata": {},
   "outputs": [],
   "source": [
    "from collections import defaultdict"
   ]
  },
  {
   "cell_type": "code",
   "execution_count": 6,
   "metadata": {},
   "outputs": [],
   "source": [
    "from itertools import combinations"
   ]
  },
  {
   "cell_type": "code",
   "execution_count": 7,
   "metadata": {},
   "outputs": [],
   "source": [
    "tree_gene_combinations = defaultdict(list)\n",
    "two_gene_combinations = defaultdict(list)\n",
    "\n",
    "for p1 in c1:\n",
    "    for p2 in c2:\n",
    "        for p3 in c3:\n",
    "            probes_combination = (p1, f\"{p2}-C2\", f\"{p3}-C3\")\n",
    "            \n",
    "            tree_gene_combination = frozenset({p1, p2, p3})\n",
    "            if len(tree_gene_combination) == 3:\n",
    "                tree_gene_combinations[tree_gene_combination].append(probes_combination)\n",
    "            \n",
    "            for two_gene_combination in combinations(tree_gene_combination, 2):\n",
    "                two_gene_combinations[frozenset(two_gene_combination)].append(probes_combination)"
   ]
  },
  {
   "cell_type": "code",
   "execution_count": 8,
   "metadata": {},
   "outputs": [
    {
     "name": "stdout",
     "output_type": "stream",
     "text": [
      "for 7 distinct 3-gene combinations, at least one 3-probe combination exists:\n",
      "\n",
      "gene combination [ gene_2 gene_1 gene_5 ] can be tested with:\n",
      "- gene_2, gene_5-C2, gene_1-C3\n",
      "\n",
      "gene combination [ gene_2 gene_4 gene_5 ] can be tested with:\n",
      "- gene_2, gene_5-C2, gene_4-C3\n",
      "\n",
      "gene combination [ gene_2 gene_1 gene_3 ] can be tested with:\n",
      "- gene_2, gene_3-C2, gene_1-C3\n",
      "\n",
      "gene combination [ gene_2 gene_4 gene_3 ] can be tested with:\n",
      "- gene_2, gene_3-C2, gene_4-C3\n",
      "\n",
      "gene combination [ gene_2 gene_1 gene_4 ] can be tested with:\n",
      "- gene_1, gene_2-C2, gene_4-C3\n",
      "\n",
      "gene combination [ gene_1 gene_4 gene_5 ] can be tested with:\n",
      "- gene_1, gene_5-C2, gene_4-C3\n",
      "\n",
      "gene combination [ gene_1 gene_4 gene_3 ] can be tested with:\n",
      "- gene_1, gene_3-C2, gene_4-C3\n",
      "\n"
     ]
    }
   ],
   "source": [
    "print(f\"for {len(tree_gene_combinations)} distinct 3-gene combinations, at least one 3-probe combination exists:\")\n",
    "print()\n",
    "\n",
    "for gen_kombo, probe_kombos in tree_gene_combinations.items():\n",
    "    print(\"gene combination [\", *gen_kombo, \"] can be tested with:\")\n",
    "    for probe_kombo in probe_kombos:\n",
    "        print('-', ', '.join(probe_kombo))\n",
    "    print()"
   ]
  },
  {
   "cell_type": "code",
   "execution_count": 9,
   "metadata": {},
   "outputs": [
    {
     "name": "stdout",
     "output_type": "stream",
     "text": [
      "for 9 distinct 2-gene combinations, at least one 3-probe combination exists:\n",
      "\n",
      "gene combination [ gene_2 gene_1 ] can be tested with:\n",
      "- gene_2, gene_2-C2, gene_1-C3\n",
      "- gene_2, gene_5-C2, gene_1-C3\n",
      "- gene_2, gene_3-C2, gene_1-C3\n",
      "- gene_1, gene_2-C2, gene_1-C3\n",
      "- gene_1, gene_2-C2, gene_4-C3\n",
      "\n",
      "gene combination [ gene_2 gene_4 ] can be tested with:\n",
      "- gene_2, gene_2-C2, gene_4-C3\n",
      "- gene_2, gene_5-C2, gene_4-C3\n",
      "- gene_2, gene_3-C2, gene_4-C3\n",
      "- gene_1, gene_2-C2, gene_4-C3\n",
      "\n",
      "gene combination [ gene_2 gene_5 ] can be tested with:\n",
      "- gene_2, gene_5-C2, gene_1-C3\n",
      "- gene_2, gene_5-C2, gene_4-C3\n",
      "\n",
      "gene combination [ gene_1 gene_5 ] can be tested with:\n",
      "- gene_2, gene_5-C2, gene_1-C3\n",
      "- gene_1, gene_5-C2, gene_1-C3\n",
      "- gene_1, gene_5-C2, gene_4-C3\n",
      "\n",
      "gene combination [ gene_5 gene_4 ] can be tested with:\n",
      "- gene_2, gene_5-C2, gene_4-C3\n",
      "- gene_1, gene_5-C2, gene_4-C3\n",
      "\n",
      "gene combination [ gene_2 gene_3 ] can be tested with:\n",
      "- gene_2, gene_3-C2, gene_1-C3\n",
      "- gene_2, gene_3-C2, gene_4-C3\n",
      "\n",
      "gene combination [ gene_1 gene_3 ] can be tested with:\n",
      "- gene_2, gene_3-C2, gene_1-C3\n",
      "- gene_1, gene_3-C2, gene_1-C3\n",
      "- gene_1, gene_3-C2, gene_4-C3\n",
      "\n",
      "gene combination [ gene_3 gene_4 ] can be tested with:\n",
      "- gene_2, gene_3-C2, gene_4-C3\n",
      "- gene_1, gene_3-C2, gene_4-C3\n",
      "\n",
      "gene combination [ gene_1 gene_4 ] can be tested with:\n",
      "- gene_1, gene_2-C2, gene_4-C3\n",
      "- gene_1, gene_5-C2, gene_4-C3\n",
      "- gene_1, gene_3-C2, gene_4-C3\n",
      "\n"
     ]
    }
   ],
   "source": [
    "print(f\"for {len(two_gene_combinations)} distinct 2-gene combinations, at least one 3-probe combination exists:\")\n",
    "print()\n",
    "\n",
    "for gen_kombo, probe_kombos in two_gene_combinations.items():\n",
    "    print(\"gene combination [\", *gen_kombo, \"] can be tested with:\")\n",
    "    for probe_kombo in probe_kombos:\n",
    "        print('-', ', '.join(probe_kombo))\n",
    "    print()"
   ]
  }
 ],
 "metadata": {
  "kernelspec": {
   "display_name": "Python 3",
   "language": "python",
   "name": "python3"
  },
  "language_info": {
   "codemirror_mode": {
    "name": "ipython",
    "version": 3
   },
   "file_extension": ".py",
   "mimetype": "text/x-python",
   "name": "python",
   "nbconvert_exporter": "python",
   "pygments_lexer": "ipython3",
   "version": "3.6.8"
  }
 },
 "nbformat": 4,
 "nbformat_minor": 2
}
